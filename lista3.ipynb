{
 "cells": [
  {
   "cell_type": "markdown",
   "metadata": {},
   "source": [
    "Lista 3"
   ]
  },
  {
   "cell_type": "code",
   "execution_count": 1,
   "metadata": {},
   "outputs": [],
   "source": [
    "import numpy as np\n",
    "import matplotlib.pyplot as plt\n",
    "import scipy.stats as stats\n",
    "import random"
   ]
  },
  {
   "cell_type": "code",
   "execution_count": 9,
   "metadata": {},
   "outputs": [],
   "source": [
    "alphas = [0.01, 0.05]\n",
    "sigmas = [0.01, 0.5, 1]\n",
    "ns = [100, 1000, 5000]"
   ]
  },
  {
   "cell_type": "code",
   "execution_count": 15,
   "metadata": {},
   "outputs": [],
   "source": [
    "def pu_b1(sigma, alpha, x):\n",
    "    return stats.norm.ppf(1-alpha/2) * sigma / np.sqrt(np.sum(x-np.mean(x))**2)"
   ]
  },
  {
   "cell_type": "code",
   "execution_count": 16,
   "metadata": {},
   "outputs": [],
   "source": [
    "def pu_b0(sigma, alpha, x):\n",
    "    return stats.norm.ppf(1 - alpha/2) * sigma * np.sqrt((1/ len(x) + np.mean(x)**2 / np.sum(x-np.mean(x))**2))"
   ]
  },
  {
   "cell_type": "code",
   "execution_count": 17,
   "metadata": {},
   "outputs": [],
   "source": [
    "def b1_estim(x,y):\n",
    "    return np.sum((x - np.mean(x)) * (y))/np.sum((x-np.mean(x))**2)"
   ]
  },
  {
   "cell_type": "code",
   "execution_count": 18,
   "metadata": {},
   "outputs": [],
   "source": [
    "def b0_estim(x,y):\n",
    "    return np.mean(y) - b1_estim(x,y) * np.mean(x)"
   ]
  },
  {
   "cell_type": "code",
   "execution_count": 19,
   "metadata": {},
   "outputs": [],
   "source": [
    "def generate_sample(n, b0, b1, sigma):\n",
    "    eps = np.random.normal(0, sigma, n)\n",
    "    x = np.linspace(1, n+1, n)\n",
    "    y = b1 * x + b0 + eps\n",
    "    return x, y"
   ]
  },
  {
   "cell_type": "code",
   "execution_count": null,
   "metadata": {},
   "outputs": [],
   "source": [
    "def mc_test(n, sigma, b0, b1, mc, alpha):\n",
    "    b1_in, b0_in = 0,0\n",
    "    for _ in range(mc):\n",
    "        x, y = generate_sample(n, b0, b1, sigma)\n",
    "        b1_hat, b0_hat = b1_estim(x,y), b0_estim(x, y)\n",
    "        pu_b0_, pu_b1_ = pu_b0(sigma, alpha, x), pu_b1(sigma, alpha, x)\n",
    "        if b1_hat - pu_b1_ < b1 < b1_hat + pu_b1_:\n",
    "            b1_in += 1\n",
    "        if b0_hat - pu_b0_ < b0 < b0_hat + pu_b0_:\n",
    "            b0_in += 1\n",
    "    return b1_in / mc, b0_in / mc"
   ]
  },
  {
   "cell_type": "code",
   "execution_count": 29,
   "metadata": {},
   "outputs": [
    {
     "name": "stdout",
     "output_type": "stream",
     "text": [
      "(1.0, 1.0)\n"
     ]
    }
   ],
   "source": [
    "print(mc_test(1000, 0.01, 1, 2, 1000, 0.5))"
   ]
  },
  {
   "cell_type": "code",
   "execution_count": null,
   "metadata": {},
   "outputs": [],
   "source": []
  }
 ],
 "metadata": {
  "kernelspec": {
   "display_name": "Python 3",
   "language": "python",
   "name": "python3"
  },
  "language_info": {
   "codemirror_mode": {
    "name": "ipython",
    "version": 3
   },
   "file_extension": ".py",
   "mimetype": "text/x-python",
   "name": "python",
   "nbconvert_exporter": "python",
   "pygments_lexer": "ipython3",
   "version": "3.13.0"
  }
 },
 "nbformat": 4,
 "nbformat_minor": 2
}
