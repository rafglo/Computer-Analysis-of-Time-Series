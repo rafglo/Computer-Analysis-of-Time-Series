{
 "cells": [
  {
   "cell_type": "markdown",
   "metadata": {},
   "source": [
    "Lista 3"
   ]
  },
  {
   "cell_type": "code",
   "execution_count": 1,
   "metadata": {},
   "outputs": [],
   "source": [
    "import numpy as np\n",
    "import matplotlib.pyplot as plt\n",
    "import scipy.stats as stats\n",
    "import random"
   ]
  },
  {
   "cell_type": "code",
   "execution_count": 39,
   "metadata": {},
   "outputs": [],
   "source": [
    "alphas = [0.01, 0.05]\n",
    "sigmas = [0.01, 0.5, 1]\n",
    "ns = [100, 1000, 5000]\n",
    "b0, b1 = 1, 2"
   ]
  },
  {
   "cell_type": "code",
   "execution_count": 41,
   "metadata": {},
   "outputs": [],
   "source": [
    "def pu_b1_known_var(sigma, alpha, x):\n",
    "    return stats.norm.ppf(1-alpha/2) * sigma / np.sqrt(np.sum((x-np.mean(x))**2))"
   ]
  },
  {
   "cell_type": "code",
   "execution_count": 42,
   "metadata": {},
   "outputs": [],
   "source": [
    "def pu_b0_known_var(sigma, alpha, x):\n",
    "    return stats.norm.ppf(1 - alpha/2) * sigma * np.sqrt((1/ len(x) + np.mean(x)**2 / np.sum((x-np.mean(x))**2)))"
   ]
  },
  {
   "cell_type": "code",
   "execution_count": 62,
   "metadata": {},
   "outputs": [],
   "source": [
    "def pu_b0_unknown_var(alpha, x, y, b1_hat, b0_hat):\n",
    "    n = len(x)\n",
    "    residuals = y - (b1_hat * x + b0_hat)\n",
    "    s_squared = np.sum(residuals**2) / (n - 2)\n",
    "    s = np.sqrt(s_squared)\n",
    "    return stats.t.ppf(1 - alpha/2, n - 2) * s * np.sqrt(1/n + np.mean(x)**2 / np.sum((x - np.mean(x))**2))"
   ]
  },
  {
   "cell_type": "code",
   "execution_count": 63,
   "metadata": {},
   "outputs": [],
   "source": [
    "def pu_b1_unknown_var(alpha, x, y, b1_hat):\n",
    "    n = len(x)\n",
    "    residuals = y - (b1_hat * x + np.mean(y) - b1_hat * np.mean(x))\n",
    "    s_squared = np.sum(residuals**2) / (n - 2)  \n",
    "    s = np.sqrt(s_squared)\n",
    "    return stats.t.ppf(1 - alpha/2, n - 2) * s / np.sqrt(np.sum((x - np.mean(x))**2))"
   ]
  },
  {
   "cell_type": "code",
   "execution_count": 43,
   "metadata": {},
   "outputs": [],
   "source": [
    "def b1_estim(x,y):\n",
    "    return np.sum((x - np.mean(x)) * (y))/np.sum((x-np.mean(x))**2)"
   ]
  },
  {
   "cell_type": "code",
   "execution_count": 44,
   "metadata": {},
   "outputs": [],
   "source": [
    "def b0_estim(x,y):\n",
    "    return np.mean(y) - b1_estim(x,y) * np.mean(x)"
   ]
  },
  {
   "cell_type": "code",
   "execution_count": 45,
   "metadata": {},
   "outputs": [],
   "source": [
    "def generate_sample(n, b0, b1, sigma):\n",
    "    eps = np.random.normal(0, sigma, n)\n",
    "    x = np.linspace(1, n+1, n)\n",
    "    y = b1 * x + b0 + eps\n",
    "    return x, y"
   ]
  },
  {
   "cell_type": "code",
   "execution_count": 67,
   "metadata": {},
   "outputs": [],
   "source": [
    "def mc_test(n, sigma, b0, b1, mc, alpha, known_var):\n",
    "    b1_in, b0_in = 0,0\n",
    "    for _ in range(mc):\n",
    "        x, y = generate_sample(n, b0, b1, sigma)\n",
    "        b1_hat, b0_hat = b1_estim(x,y), b0_estim(x, y)\n",
    "        if known_var:\n",
    "            pu_b0_, pu_b1_ = pu_b0_known_var(sigma, alpha, x), pu_b1_known_var(sigma, alpha, x)\n",
    "        else:\n",
    "            pu_b0_, pu_b1_ = pu_b0_unknown_var(alpha, x, y, b1_hat, b0_hat), pu_b1_unknown_var(alpha, x, y, b1_hat)\n",
    "        if b1_hat - pu_b1_ < b1 < b1_hat + pu_b1_:\n",
    "            b1_in += 1\n",
    "        if b0_hat - pu_b0_ < b0 < b0_hat + pu_b0_:\n",
    "            b0_in += 1\n",
    "    return b1_in / mc, b0_in / mc"
   ]
  },
  {
   "cell_type": "code",
   "execution_count": 65,
   "metadata": {},
   "outputs": [],
   "source": [
    "mc = 1000"
   ]
  },
  {
   "cell_type": "code",
   "execution_count": 56,
   "metadata": {},
   "outputs": [
    {
     "name": "stdout",
     "output_type": "stream",
     "text": [
      "Prawdopodobieństwo dla alpha = 0.01, sigma = 0.01, n = 100\n",
      "b1 = 0.991\n",
      "b2 = 0.991\n",
      "Prawdopodobieństwo dla alpha = 0.01, sigma = 0.01, n = 1000\n",
      "b1 = 0.992\n",
      "b2 = 0.992\n",
      "Prawdopodobieństwo dla alpha = 0.01, sigma = 0.01, n = 5000\n",
      "b1 = 0.992\n",
      "b2 = 0.992\n",
      "Prawdopodobieństwo dla alpha = 0.01, sigma = 0.5, n = 100\n",
      "b1 = 0.988\n",
      "b2 = 0.988\n",
      "Prawdopodobieństwo dla alpha = 0.01, sigma = 0.5, n = 1000\n",
      "b1 = 0.995\n",
      "b2 = 0.995\n",
      "Prawdopodobieństwo dla alpha = 0.01, sigma = 0.5, n = 5000\n",
      "b1 = 0.992\n",
      "b2 = 0.992\n",
      "Prawdopodobieństwo dla alpha = 0.01, sigma = 1, n = 100\n",
      "b1 = 0.981\n",
      "b2 = 0.981\n",
      "Prawdopodobieństwo dla alpha = 0.01, sigma = 1, n = 1000\n",
      "b1 = 0.992\n",
      "b2 = 0.992\n",
      "Prawdopodobieństwo dla alpha = 0.01, sigma = 1, n = 5000\n",
      "b1 = 0.99\n",
      "b2 = 0.99\n",
      "Prawdopodobieństwo dla alpha = 0.05, sigma = 0.01, n = 100\n",
      "b1 = 0.954\n",
      "b2 = 0.954\n",
      "Prawdopodobieństwo dla alpha = 0.05, sigma = 0.01, n = 1000\n",
      "b1 = 0.95\n",
      "b2 = 0.95\n",
      "Prawdopodobieństwo dla alpha = 0.05, sigma = 0.01, n = 5000\n",
      "b1 = 0.954\n",
      "b2 = 0.954\n",
      "Prawdopodobieństwo dla alpha = 0.05, sigma = 0.5, n = 100\n",
      "b1 = 0.936\n",
      "b2 = 0.936\n",
      "Prawdopodobieństwo dla alpha = 0.05, sigma = 0.5, n = 1000\n",
      "b1 = 0.941\n",
      "b2 = 0.941\n",
      "Prawdopodobieństwo dla alpha = 0.05, sigma = 0.5, n = 5000\n",
      "b1 = 0.945\n",
      "b2 = 0.945\n",
      "Prawdopodobieństwo dla alpha = 0.05, sigma = 1, n = 100\n",
      "b1 = 0.943\n",
      "b2 = 0.943\n",
      "Prawdopodobieństwo dla alpha = 0.05, sigma = 1, n = 1000\n",
      "b1 = 0.956\n",
      "b2 = 0.956\n",
      "Prawdopodobieństwo dla alpha = 0.05, sigma = 1, n = 5000\n",
      "b1 = 0.948\n",
      "b2 = 0.948\n"
     ]
    }
   ],
   "source": [
    "for alpha in alphas:\n",
    "    for sigma in sigmas:\n",
    "        for n in ns:\n",
    "            b1_prob, b0_prob = mc_test(n, sigma, b0, b1, mc, alpha, True)\n",
    "            print(f\"Prawdopodobieństwo dla alpha = {alpha}, sigma = {sigma}, n = {n}\\nb1 = {b0_prob}\\nb2 = {b0_prob}\")"
   ]
  },
  {
   "cell_type": "markdown",
   "metadata": {},
   "source": [
    "Zadanie 2"
   ]
  },
  {
   "cell_type": "code",
   "execution_count": 68,
   "metadata": {},
   "outputs": [
    {
     "name": "stdout",
     "output_type": "stream",
     "text": [
      "Prawdopodobieństwo dla alpha = 0.01, sigma = 0.01, n = 100\n",
      "b1 = 0.99\n",
      "b2 = 0.99\n",
      "Prawdopodobieństwo dla alpha = 0.01, sigma = 0.01, n = 1000\n",
      "b1 = 0.988\n",
      "b2 = 0.988\n",
      "Prawdopodobieństwo dla alpha = 0.01, sigma = 0.01, n = 5000\n",
      "b1 = 0.99\n",
      "b2 = 0.99\n",
      "Prawdopodobieństwo dla alpha = 0.01, sigma = 0.5, n = 100\n",
      "b1 = 0.995\n",
      "b2 = 0.995\n",
      "Prawdopodobieństwo dla alpha = 0.01, sigma = 0.5, n = 1000\n",
      "b1 = 0.981\n",
      "b2 = 0.981\n",
      "Prawdopodobieństwo dla alpha = 0.01, sigma = 0.5, n = 5000\n",
      "b1 = 0.988\n",
      "b2 = 0.988\n",
      "Prawdopodobieństwo dla alpha = 0.01, sigma = 1, n = 100\n",
      "b1 = 0.994\n",
      "b2 = 0.994\n",
      "Prawdopodobieństwo dla alpha = 0.01, sigma = 1, n = 1000\n",
      "b1 = 0.987\n",
      "b2 = 0.987\n",
      "Prawdopodobieństwo dla alpha = 0.01, sigma = 1, n = 5000\n",
      "b1 = 0.988\n",
      "b2 = 0.988\n",
      "Prawdopodobieństwo dla alpha = 0.05, sigma = 0.01, n = 100\n",
      "b1 = 0.957\n",
      "b2 = 0.957\n",
      "Prawdopodobieństwo dla alpha = 0.05, sigma = 0.01, n = 1000\n",
      "b1 = 0.947\n",
      "b2 = 0.947\n",
      "Prawdopodobieństwo dla alpha = 0.05, sigma = 0.01, n = 5000\n",
      "b1 = 0.952\n",
      "b2 = 0.952\n",
      "Prawdopodobieństwo dla alpha = 0.05, sigma = 0.5, n = 100\n",
      "b1 = 0.946\n",
      "b2 = 0.946\n",
      "Prawdopodobieństwo dla alpha = 0.05, sigma = 0.5, n = 1000\n",
      "b1 = 0.942\n",
      "b2 = 0.942\n",
      "Prawdopodobieństwo dla alpha = 0.05, sigma = 0.5, n = 5000\n",
      "b1 = 0.946\n",
      "b2 = 0.946\n",
      "Prawdopodobieństwo dla alpha = 0.05, sigma = 1, n = 100\n",
      "b1 = 0.939\n",
      "b2 = 0.939\n",
      "Prawdopodobieństwo dla alpha = 0.05, sigma = 1, n = 1000\n",
      "b1 = 0.948\n",
      "b2 = 0.948\n",
      "Prawdopodobieństwo dla alpha = 0.05, sigma = 1, n = 5000\n",
      "b1 = 0.959\n",
      "b2 = 0.959\n"
     ]
    }
   ],
   "source": [
    "for alpha in alphas:\n",
    "    for sigma in sigmas:\n",
    "        for n in ns:\n",
    "            b1_prob, b0_prob = mc_test(n, sigma, b0, b1, mc, alpha, False)\n",
    "            print(f\"Prawdopodobieństwo dla alpha = {alpha}, sigma = {sigma}, n = {n}\\nb1 = {b0_prob}\\nb2 = {b0_prob}\")"
   ]
  },
  {
   "cell_type": "code",
   "execution_count": 69,
   "metadata": {},
   "outputs": [],
   "source": [
    "def pu_length_dif(sigma, b0, b1, alpha):\n",
    "    x, y = generate_sample(n, b0, b1, sigma)\n",
    "    b1_hat, b0_hat = b1_estim(x,y), b0_estim(x, y)\n",
    "    pu_b0_k, pu_b1_k = pu_b0_known_var(sigma, alpha, x), pu_b1_known_var(sigma, alpha, x)\n",
    "    pu_b0_u, pu_b1_u = pu_b0_unknown_var(alpha, x, y, b1_hat, b0_hat), pu_b1_unknown_var(alpha, x, y, b1_hat)\n",
    "    return pu_b0_u - pu_b0_k, pu_b1_u - pu_b1_k"
   ]
  },
  {
   "cell_type": "code",
   "execution_count": 70,
   "metadata": {},
   "outputs": [
    {
     "name": "stdout",
     "output_type": "stream",
     "text": [
      "Różnica długości przedziałów dla alpha = 0.01, sigma = 0.01, n = 100\n",
      "b1 = 9.133151463076695e-06\n",
      "b2 = 0.0005365420107292249\n",
      "Różnica długości przedziałów dla alpha = 0.01, sigma = 0.01, n = 1000\n",
      "b1 = 7.255120564140032e-08\n",
      "b2 = 4.1960770315974377e-05\n",
      "Różnica długości przedziałów dla alpha = 0.01, sigma = 0.01, n = 5000\n",
      "b1 = 5.726939253091909e-09\n",
      "b2 = 1.6538036028487454e-05\n",
      "Różnica długości przedziałów dla alpha = 0.01, sigma = 0.5, n = 100\n",
      "b1 = -0.00030352213984233267\n",
      "b2 = -0.0178309075317723\n",
      "Różnica długości przedziałów dla alpha = 0.01, sigma = 0.5, n = 1000\n",
      "b1 = 2.1651063075726527e-06\n",
      "b2 = 0.001252212526019758\n",
      "Różnica długości przedziałów dla alpha = 0.01, sigma = 0.5, n = 5000\n",
      "b1 = 2.805019512219007e-07\n",
      "b2 = 0.0008100228011009847\n",
      "Różnica długości przedziałów dla alpha = 0.01, sigma = 1, n = 100\n",
      "b1 = -0.0003099880563511917\n",
      "b2 = -0.01821075843634723\n",
      "Różnica długości przedziałów dla alpha = 0.01, sigma = 1, n = 1000\n",
      "b1 = -2.6686102459136385e-06\n",
      "b2 = -0.001543419445647759\n",
      "Różnica długości przedziałów dla alpha = 0.01, sigma = 1, n = 5000\n",
      "b1 = -7.945369975279599e-08\n",
      "b2 = -0.00022944335378313752\n",
      "Różnica długości przedziałów dla alpha = 0.05, sigma = 0.01, n = 100\n",
      "b1 = -2.9128866160979376e-06\n",
      "b2 = -0.00017112231723529284\n",
      "Różnica długości przedziałów dla alpha = 0.05, sigma = 0.01, n = 1000\n",
      "b1 = -1.6359399949157763e-08\n",
      "b2 = -9.461634961219559e-06\n",
      "Różnica długości przedziałów dla alpha = 0.05, sigma = 0.01, n = 5000\n",
      "b1 = -1.236078865961583e-09\n",
      "b2 = -3.569501250056035e-06\n",
      "Różnica długości przedziałów dla alpha = 0.05, sigma = 0.5, n = 100\n",
      "b1 = 9.218820539219023e-05\n",
      "b2 = 0.005415747815701616\n",
      "Różnica długości przedziałów dla alpha = 0.05, sigma = 0.5, n = 1000\n",
      "b1 = 1.9783930507151715e-06\n",
      "b2 = 0.0011442249051855716\n",
      "Różnica długości przedziałów dla alpha = 0.05, sigma = 0.5, n = 5000\n",
      "b1 = -3.7255687770347166e-08\n",
      "b2 = -0.00010758554952407587\n",
      "Różnica długości przedziałów dla alpha = 0.05, sigma = 1, n = 100\n",
      "b1 = -0.00035475212170569745\n",
      "b2 = -0.020840497112072254\n",
      "Różnica długości przedziałów dla alpha = 0.05, sigma = 1, n = 1000\n",
      "b1 = 3.541622533146288e-06\n",
      "b2 = 0.002048335494164652\n",
      "Różnica długości przedziałów dla alpha = 0.05, sigma = 1, n = 5000\n",
      "b1 = 1.0778826030456788e-08\n",
      "b2 = 3.1126681349982754e-05\n"
     ]
    }
   ],
   "source": [
    "for alpha in alphas:\n",
    "    for sigma in sigmas:\n",
    "        for n in ns:\n",
    "            b0_r, b1_r = pu_length_dif(sigma, b0, b1, alpha)\n",
    "            print(f\"Różnica długości przedziałów dla alpha = {alpha}, sigma = {sigma}, n = {n}\\nb1 = {b1_r}\\nb2 = {b0_r}\")"
   ]
  },
  {
   "cell_type": "markdown",
   "metadata": {},
   "source": [
    "W wiekszości przedziały ufności dla nieznanej wariancji są dłuższe, a więc test jest mniej dokładny"
   ]
  },
  {
   "cell_type": "markdown",
   "metadata": {},
   "source": [
    "Zadanie 3"
   ]
  },
  {
   "cell_type": "code",
   "execution_count": 76,
   "metadata": {},
   "outputs": [],
   "source": [
    "n, b0, b1, sigma, alpha, gamma = 1000, 1, 2, 0.5, 0.05, 2"
   ]
  },
  {
   "cell_type": "code",
   "execution_count": 72,
   "metadata": {},
   "outputs": [],
   "source": [
    "x, y = generate_sample(n, b0, b1, sigma)"
   ]
  },
  {
   "cell_type": "code",
   "execution_count": 73,
   "metadata": {},
   "outputs": [],
   "source": [
    "def mi0_estim(x,y, gamma):\n",
    "    b0_hat, b1_hat = b0_estim(x,y), b1_estim(x,y)\n",
    "    x_0 = np.mean(x) + gamma\n",
    "    return b0_hat + b1_hat * x_0"
   ]
  },
  {
   "cell_type": "code",
   "execution_count": 81,
   "metadata": {},
   "outputs": [],
   "source": [
    "def pu_mi0(x,y,gamma,alpha,sigma, b0, b1, known_var):\n",
    "    n = len(x)\n",
    "    x_0 = np.mean(x) + gamma\n",
    "    if known_var:\n",
    "        return mi0_estim(x,y,gamma) - stats.norm.ppf(1-alpha/2) * sigma * np.sqrt(1/n + (x_0 - np.mean(x))**2/np.sum((x-np.mean(x))**2)), mi0_estim(x,y,gamma) + stats.norm.ppf(1-alpha/2) * sigma * np.sqrt(1/n + (x_0 - np.mean(x))**2/np.sum((x-np.mean(x))**2))\n",
    "    else:\n",
    "        s_squared = np.sum((y - (b0 + b1 * x))**2) / (n - 2)\n",
    "        s = np.sqrt(s_squared)\n",
    "        return mi0_estim(x,y,gamma) - stats.t.ppf(1-alpha/2,n-2) * s * np.sqrt(1/n + (x_0 - np.mean(x))**2/np.sum((x-np.mean(x))**2)), mi0_estim(x,y,gamma) + stats.t.ppf(1-alpha/2,n-2) * s * np.sqrt(1/n + (x_0 - np.mean(x))**2/np.sum((x-np.mean(x))**2))"
   ]
  },
  {
   "cell_type": "code",
   "execution_count": 82,
   "metadata": {},
   "outputs": [],
   "source": [
    "ns = [1000, 2000, 5000]"
   ]
  },
  {
   "cell_type": "code",
   "execution_count": 83,
   "metadata": {},
   "outputs": [
    {
     "name": "stdout",
     "output_type": "stream",
     "text": [
      "Dla n=1000:\n",
      "  Przedział ufności dla znanej wariancji: (1006.9784509244975, 1007.0404319122462)\n",
      "  Przedział ufności dla nieznanej wariancji: (1006.9791824381925, 1007.0397003985511)\n",
      "\n",
      "\n",
      "Dla n=2000:\n",
      "  Przedział ufności dla znanej wariancji: (2006.97054149138, 2007.014367881102)\n",
      "  Przedział ufności dla nieznanej wariancji: (2006.9706011350472, 2007.0143082374348)\n",
      "\n",
      "\n",
      "Dla n=5000:\n",
      "  Przedział ufności dla znanej wariancji: (5006.989001431629, 5007.016719534714)\n",
      "  Przedział ufności dla nieznanej wariancji: (5006.989066031981, 5007.016654934362)\n",
      "\n",
      "\n"
     ]
    }
   ],
   "source": [
    "for n in ns:\n",
    "    x, y = generate_sample(n,b0,b1,sigma)\n",
    "    ci_known = pu_mi0(x, y, gamma, alpha, sigma, b0, b1, True)\n",
    "    ci_unknown = pu_mi0(x, y, gamma, alpha, sigma, b0, b1, False)\n",
    "    print(f\"Dla n={n}:\")\n",
    "    print(f\"  Przedział ufności dla znanej wariancji: {ci_known}\")\n",
    "    print(f\"  Przedział ufności dla nieznanej wariancji: {ci_unknown}\")\n",
    "    print(\"\\n\")"
   ]
  }
 ],
 "metadata": {
  "kernelspec": {
   "display_name": "Python 3",
   "language": "python",
   "name": "python3"
  },
  "language_info": {
   "codemirror_mode": {
    "name": "ipython",
    "version": 3
   },
   "file_extension": ".py",
   "mimetype": "text/x-python",
   "name": "python",
   "nbconvert_exporter": "python",
   "pygments_lexer": "ipython3",
   "version": "3.8.0"
  }
 },
 "nbformat": 4,
 "nbformat_minor": 2
}
